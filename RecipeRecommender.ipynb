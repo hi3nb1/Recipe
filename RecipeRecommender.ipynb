{
 "cells": [
  {
   "cell_type": "code",
   "execution_count": 1,
   "id": "2ae66c34",
   "metadata": {},
   "outputs": [],
   "source": [
    "import gzip\n",
    "import pandas as pd\n",
    "import numpy as np\n",
    "import os\n",
    "\n",
    "from sklearn.linear_model import LinearRegression\n",
    "from sklearn.linear_model import LogisticRegression\n",
    "from sklearn.linear_model import Ridge\n",
    "from sklearn.preprocessing import FunctionTransformer\n",
    "from sklearn.preprocessing import OneHotEncoder\n",
    "from sklearn.pipeline import Pipeline\n",
    "from sklearn.compose import ColumnTransformer\n",
    "\n",
    "from collections import defaultdict\n",
    "import math\n",
    "import scipy.optimize\n",
    "import numpy\n",
    "import string\n",
    "import random\n",
    "from sklearn import linear_model"
   ]
  },
  {
   "cell_type": "code",
   "execution_count": 2,
   "id": "eb8d8995",
   "metadata": {},
   "outputs": [],
   "source": [
    "def parse(f):\n",
    "    for l in gzip.open(f):\n",
    "        yield eval(l)"
   ]
  },
  {
   "cell_type": "code",
   "execution_count": 3,
   "id": "10a5d709",
   "metadata": {},
   "outputs": [],
   "source": [
    "dataset = list(parse(os.path.join('data', \"trainRecipes.json.gz\")))"
   ]
  },
  {
   "cell_type": "code",
   "execution_count": 4,
   "id": "7dcd134b",
   "metadata": {},
   "outputs": [],
   "source": [
    "train = dataset[:150000]\n",
    "valid = dataset[150000:175000]\n",
    "test = dataset[175000:]"
   ]
  },
  {
   "cell_type": "code",
   "execution_count": null,
   "id": "b24e63ab",
   "metadata": {},
   "outputs": [],
   "source": [
    "MOdel "
   ]
  },
  {
   "cell_type": "code",
   "execution_count": 20,
   "id": "c998a903",
   "metadata": {},
   "outputs": [],
   "source": [
    "ingsPerItem = defaultdict(set)\n",
    "itemsPerIng = defaultdict(set)"
   ]
  },
  {
   "cell_type": "code",
   "execution_count": 21,
   "id": "9793466a",
   "metadata": {},
   "outputs": [],
   "source": [
    "for d in dataset:\n",
    "    r = d['recipe_id']\n",
    "    for i in d['ingredients']:\n",
    "        ingsPerItem[r].add(i)\n",
    "        itemsPerIng[i].add(r)"
   ]
  },
  {
   "cell_type": "code",
   "execution_count": 17,
   "id": "5944f05f",
   "metadata": {},
   "outputs": [],
   "source": [
    "def Jaccard(s1, s2):\n",
    "    num = len(s1.intersection(s2))\n",
    "    denom = len(s1.union(s2))\n",
    "    return num / denom"
   ]
  },
  {
   "cell_type": "code",
   "execution_count": 22,
   "id": "a41e5439",
   "metadata": {},
   "outputs": [],
   "source": [
    "def mostSimilar(i, N):\n",
    "    ings = ingsPerItem[i]\n",
    "    similarities = []\n",
    "    for each in ingsPerItem:\n",
    "        if i == each: continue\n",
    "        sim = Jaccard(ings, ingsPerItem[each])\n",
    "        similarities.append((sim, each))\n",
    "    similarities.sort(reverse=True)\n",
    "    return similarities[:N]"
   ]
  },
  {
   "cell_type": "code",
   "execution_count": 23,
   "id": "a266b07b",
   "metadata": {},
   "outputs": [
    {
     "data": {
      "text/plain": [
       "[(0.4166666666666667, '68523854'),\n",
       " (0.38461538461538464, '12679596'),\n",
       " (0.36363636363636365, '79675099'),\n",
       " (0.36363636363636365, '56301588'),\n",
       " (0.35714285714285715, '87359281')]"
      ]
     },
     "execution_count": 23,
     "metadata": {},
     "output_type": "execute_result"
    }
   ],
   "source": [
    "mostSimilar('06432987', 5)"
   ]
  },
  {
   "cell_type": "code",
   "execution_count": 24,
   "id": "1abbcf73",
   "metadata": {},
   "outputs": [],
   "source": [
    "def mostSimilarIng(i, N):\n",
    "    items = itemsPerIng[i]\n",
    "    similarities = []\n",
    "    for each in itemsPerIng:\n",
    "        if i == each: continue\n",
    "        sim = Jaccard(items, itemsPerIng[each])\n",
    "        similarities.append((sim, each))\n",
    "    similarities.sort(reverse=True)\n",
    "    return similarities[:N]"
   ]
  },
  {
   "cell_type": "code",
   "execution_count": 26,
   "id": "3914d779",
   "metadata": {},
   "outputs": [
    {
     "data": {
      "text/plain": [
       "[(0.22315311514274808, 'salt'),\n",
       " (0.2056685424969639, 'flour'),\n",
       " (0.19100394157199166, 'eggs'),\n",
       " (0.17882420717656095, 'sugar'),\n",
       " (0.17040052045973944, 'milk')]"
      ]
     },
     "execution_count": 26,
     "metadata": {},
     "output_type": "execute_result"
    }
   ],
   "source": [
    "mostSimilarIng('butter', 5)"
   ]
  },
  {
   "cell_type": "code",
   "execution_count": 29,
   "id": "a0071d95",
   "metadata": {},
   "outputs": [],
   "source": [
    "recipes = pd.DataFrame(dataset)"
   ]
  },
  {
   "cell_type": "markdown",
   "id": "8306515b",
   "metadata": {},
   "source": [
    "To pull recipes that capture the \"essence\" of the set of ingredients, I think it would be more precise to focus on special ingredients in the set, and to put less priority on basic ingredients. Then, we could determine the Jaccard Similarities of pairs of ingredients in the set, and pull ingredients based on the weighted average of the ingredients, with more rare ingredients weighing more than common ones."
   ]
  },
  {
   "cell_type": "code",
   "execution_count": 237,
   "id": "b464e40e",
   "metadata": {},
   "outputs": [],
   "source": [
    "def essence(ingset):\n",
    "    # creates a dataframe with ingredients as the index and each one's \"rarity\" or frequency in recipes\n",
    "    rarity = pd.Series([each for every in list(recipes['ingredients']) for each in every]).value_counts().sort_values()\n",
    "    ingredients = pd.DataFrame()\n",
    "    ingredients['ingredient'] = test\n",
    "    ingredients['#'] = ingredients['ingredient'].apply(lambda x: 0 if x not in rarity else rarity[x])\n",
    "    # removes ingredients that are not in the ingredient list\n",
    "    ingredients = ingredients.replace(0, pd.np.nan).dropna(axis=0, how='any')\n",
    "    # pulls the 5 most \"rare\" ingredients to remove basic and common ingredients\n",
    "    ingredients = ingredients.loc[:4,]\n",
    "    ingredients['weight'] = ingredients['#'].apply(lambda x: (x /sum(ingredients['#'])))\n",
    "    ingredients = ingredients.sort_values('weight')\n",
    "    # performs Jaccard Similarity with 5,4,3,2,1 items as a result, corresponding to its ranking in rarity\n",
    "    num_pulls = [5,4,3,2,1]\n",
    "    ingredients['# of pulls'] = num_pulls[:ingredients.shape[0]]\n",
    "    \n",
    "    def mostSimilarIng(i, N):\n",
    "        items = itemsPerIng[i]\n",
    "        similarities = []\n",
    "        for each in itemsPerIng:\n",
    "            if i == each: continue\n",
    "            sim = Jaccard(items, itemsPerIng[each])\n",
    "            similarities.append((sim,each))\n",
    "        similarities.sort(reverse=True)\n",
    "        return similarities[:N]\n",
    "    \n",
    "    # creates dataframe pairing ingredient with its similar ingredients\n",
    "    similar = pd.DataFrame(ingredients['ingredient'])\n",
    "    similar['similar'] = [mostSimilarIng(ingredients['ingredient'][each], ingredients['# of pulls'][each]) for each in ingredients.index]\n",
    "    similar['match'] = similar['similar'].apply(lambda x: [each[1] for each in x])\n",
    "    # combines all sourced ingredients with inputted ingredients as one list to search for in recipes\n",
    "    curated_list = list(similar['match'].explode()) + ingset\n",
    "    \n",
    "    def mostSimilarRec(i, N):\n",
    "        ings = set(i)\n",
    "        similarities = []\n",
    "        for each in ingsPerItem:\n",
    "            sim = Jaccard(ings, ingsPerItem[each])\n",
    "            similarities.append((sim, each))\n",
    "        similarities.sort(reverse=True)\n",
    "        return similarities[:N]\n",
    "\n",
    "    recipe_list = mostSimilarRec(curated_list, 5)\n",
    "    return [recipes.loc[recipes['recipe_id'] == each[1], 'name'].iloc[0] for each in recipe_list]"
   ]
  },
  {
   "cell_type": "code",
   "execution_count": 236,
   "id": "dc4f0f6f",
   "metadata": {
    "scrolled": true
   },
   "outputs": [
    {
     "name": "stderr",
     "output_type": "stream",
     "text": [
      "/tmp/ipykernel_278/2179408309.py:6: FutureWarning: The pandas.np module is deprecated and will be removed from pandas in a future version. Import numpy directly instead\n",
      "  ingredients = ingredients.replace(0, pd.np.nan).dropna(axis=0, how='any')\n"
     ]
    },
    {
     "data": {
      "text/plain": [
       "['4th of july martini',\n",
       " 'beautiful blue vodka martini',\n",
       " 'shark bite',\n",
       " 'barbados sunrise',\n",
       " 'halloween black brew']"
      ]
     },
     "execution_count": 236,
     "metadata": {},
     "output_type": "execute_result"
    }
   ],
   "source": [
    "test = [\"cinnamon\", \"cherries\", \"butterscotch\", \"vodka\"]\n",
    "results = essence(test)\n",
    "results"
   ]
  },
  {
   "cell_type": "code",
   "execution_count": null,
   "id": "57dd006f",
   "metadata": {},
   "outputs": [],
   "source": []
  }
 ],
 "metadata": {
  "kernelspec": {
   "display_name": "Python 3 (clean)",
   "language": "python",
   "name": "python3_clean"
  },
  "language_info": {
   "codemirror_mode": {
    "name": "ipython",
    "version": 3
   },
   "file_extension": ".py",
   "mimetype": "text/x-python",
   "name": "python",
   "nbconvert_exporter": "python",
   "pygments_lexer": "ipython3",
   "version": "3.9.5"
  }
 },
 "nbformat": 4,
 "nbformat_minor": 5
}
